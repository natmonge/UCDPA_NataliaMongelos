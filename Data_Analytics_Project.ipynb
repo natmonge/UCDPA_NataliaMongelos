{
  "cells": [
    {
      "cell_type": "markdown",
      "metadata": {
        "id": "view-in-github",
        "colab_type": "text"
      },
      "source": [
        "<a href=\"https://colab.research.google.com/github/natmonge/UCDPA_NataliaMongelos/blob/main/Data_Analytics_Project.ipynb\" target=\"_parent\"><img src=\"https://colab.research.google.com/assets/colab-badge.svg\" alt=\"Open In Colab\"/></a>"
      ]
    },
    {
      "cell_type": "code",
      "source": [
        "# packages\n",
        "\n",
        "# standard\n",
        "import numpy as np\n",
        "import pandas as pd\n",
        "import requests\n",
        "import urllib.parse\n",
        "\n",
        "# plots\n",
        "import matplotlib.pyplot as plt\n",
        "import seaborn as sns\n",
        "import plotly.express as px\n",
        "\n"
      ],
      "metadata": {
        "id": "tVxFxaREkCS9"
      },
      "id": "tVxFxaREkCS9",
      "execution_count": 8,
      "outputs": []
    },
    {
      "cell_type": "markdown",
      "source": [
        "# IMPORTING "
      ],
      "metadata": {
        "id": "0zC3ks16rDk_"
      },
      "id": "0zC3ks16rDk_"
    },
    {
      "cell_type": "code",
      "source": [
        "# wrapper to API call\n",
        "\n",
        "def get_api_call(ids, **kwargs):\n",
        "    API_BASE_URL = \"https://apis.datos.gob.ar/series/api/\"\n",
        "    kwargs[\"ids\"] = \",\".join(ids)\n",
        "    return \"{}{}?{}\".format(API_BASE_URL, \"series\", urllib.parse.urlencode(kwargs))\n",
        "    \n",
        "# convert the API call in CSV to a DataFrame using pandas\n",
        "df = pd.read_csv(get_api_call(\n",
        "    [\"380.3_ICC_NACIONNAL_0_T_12\"],\n",
        "    format=\"csv\", start_date=2019\n",
        "))\n",
        "\n",
        "print (df)"
      ],
      "metadata": {
        "id": "Y5DUsjS9rKOh"
      },
      "id": "Y5DUsjS9rKOh",
      "execution_count": null,
      "outputs": []
    }
  ],
  "metadata": {
    "kernelspec": {
      "display_name": "Python 3 (ipykernel)",
      "language": "python",
      "name": "python3"
    },
    "language_info": {
      "codemirror_mode": {
        "name": "ipython",
        "version": 3
      },
      "file_extension": ".py",
      "mimetype": "text/x-python",
      "name": "python",
      "nbconvert_exporter": "python",
      "pygments_lexer": "ipython3",
      "version": "3.9.12"
    },
    "colab": {
      "provenance": [],
      "toc_visible": true,
      "include_colab_link": true
    }
  },
  "nbformat": 4,
  "nbformat_minor": 5
}