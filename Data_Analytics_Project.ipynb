{
  "cells": [
    {
      "cell_type": "markdown",
      "metadata": {
        "id": "view-in-github",
        "colab_type": "text"
      },
      "source": [
        "<a href=\"https://colab.research.google.com/github/natmonge/UCDPA_NataliaMongelos/blob/main/Data_Analytics_Project.ipynb\" target=\"_parent\"><img src=\"https://colab.research.google.com/assets/colab-badge.svg\" alt=\"Open In Colab\"/></a>"
      ]
    },
    {
      "cell_type": "code",
      "source": [
        "# packages\n",
        "\n",
        "# standard\n",
        "import numpy as np\n",
        "import pandas as pd\n",
        "import requests\n",
        "import urllib.parse\n",
        "\n",
        "# plots\n",
        "import matplotlib.pyplot as plt\n",
        "import seaborn as sns\n",
        "import plotly.express as px\n",
        "\n",
        "#test\n",
        "\n"
      ],
      "metadata": {
        "id": "tVxFxaREkCS9"
      },
      "id": "tVxFxaREkCS9",
      "execution_count": null,
      "outputs": []
    },
    {
      "cell_type": "code",
      "source": [
        "\n",
        "# wrapper to API call\n",
        "\n",
        "def get_api_call(ids, **kwargs):\n",
        "    API_BASE_URL = \"https://apis.datos.gob.ar/series/api/\"\n",
        "    kwargs[\"ids\"] = \",\".join(ids)\n",
        "    return \"{}{}?{}\".format(API_BASE_URL, \"series\", urllib.parse.urlencode(kwargs))\n",
        "    \n",
        "# convert the API call in CSV to a DataFrame using pandas\n",
        "df = pd.read_csv(get_api_call(\n",
        "    [\"380.3_ICC_NACIONNAL_0_T_12\"],\n",
        "    format=\"csv\", start_date=2019\n",
        "))\n",
        "\n",
        "print (df)"
      ],
      "metadata": {
        "colab": {
          "base_uri": "https://localhost:8080/"
        },
        "id": "iOZLyDb2kSgj",
        "outputId": "f0212612-9344-488e-cfc2-79463cc5c739"
      },
      "id": "iOZLyDb2kSgj",
      "execution_count": null,
      "outputs": [
        {
          "output_type": "stream",
          "name": "stdout",
          "text": [
            "   indice_tiempo  icc_nacional\n",
            "0     2019-01-01     33.101078\n",
            "1     2019-02-01     36.039967\n",
            "2     2019-03-01     34.794621\n",
            "3     2019-04-01     34.411144\n",
            "4     2019-05-01     36.472500\n",
            "5     2019-06-01     40.574234\n",
            "6     2019-07-01     44.176544\n",
            "7     2019-08-01     41.862835\n",
            "8     2019-09-01     42.093285\n",
            "9     2019-10-01     43.772411\n",
            "10    2019-11-01     41.354538\n",
            "11    2019-12-01     42.348259\n",
            "12    2020-01-01     43.034500\n",
            "13    2020-02-01     42.734993\n",
            "14    2020-03-01     41.230610\n",
            "15    2020-04-01     39.276279\n",
            "16    2020-05-01     38.416435\n",
            "17    2020-06-01     39.469208\n",
            "18    2020-07-01     38.183365\n",
            "19    2020-08-01     41.314079\n",
            "20    2020-09-01     40.309917\n",
            "21    2020-10-01     38.830296\n",
            "22    2020-11-01     40.865082\n",
            "23    2020-12-01     39.318970\n",
            "24    2021-01-01     38.201382\n",
            "25    2021-02-01     37.766182\n",
            "26    2021-03-01     38.194546\n",
            "27    2021-04-01     35.335178\n",
            "28    2021-05-01     35.435070\n",
            "29    2021-06-01     34.637596\n",
            "30    2021-07-01     37.861069\n",
            "31    2021-08-01     39.763580\n",
            "32    2021-09-01     40.519817\n",
            "33    2021-10-01     40.210735\n",
            "34    2021-11-01     39.691460\n",
            "35    2021-12-01     37.765217\n",
            "36    2022-01-01     40.139919\n",
            "37    2022-02-01     39.430000\n",
            "38    2022-03-01     36.913712\n",
            "39    2022-04-01     35.720000\n",
            "40    2022-05-01     36.300602\n",
            "41    2022-06-01     39.092655\n",
            "42    2022-07-01     34.744396\n",
            "43    2022-08-01     37.046005\n",
            "44    2022-09-01     37.189381\n",
            "45    2022-10-01     35.649963\n",
            "46    2022-11-01     35.146854\n",
            "47    2022-12-01     35.905445\n",
            "48    2023-01-01     38.520000\n",
            "49    2023-02-01     36.180000\n"
          ]
        }
      ]
    }
  ],
  "metadata": {
    "kernelspec": {
      "display_name": "Python 3 (ipykernel)",
      "language": "python",
      "name": "python3"
    },
    "language_info": {
      "codemirror_mode": {
        "name": "ipython",
        "version": 3
      },
      "file_extension": ".py",
      "mimetype": "text/x-python",
      "name": "python",
      "nbconvert_exporter": "python",
      "pygments_lexer": "ipython3",
      "version": "3.9.12"
    },
    "colab": {
      "provenance": [],
      "include_colab_link": true
    }
  },
  "nbformat": 4,
  "nbformat_minor": 5
}